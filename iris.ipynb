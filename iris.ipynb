{
  "cells": [
    {
      "cell_type": "code",
      "execution_count": null,
      "metadata": {
        "id": "ZdI697Bqv6zR"
      },
      "outputs": [],
      "source": [
        "import numpy as np\n",
        "import pandas as pd\n",
        "from sklearn import datasets\n",
        "from sklearn import linear_model\n",
        "from sklearn.cluster import KMeans\n",
        "from sklearn.model_selection import cross_validate\n",
        "from sklearn.model_selection import train_test_split\n",
        "from sklearn.model_selection import cross_val_score\n",
        "from sklearn import metrics\n",
        "from pandas import DataFrame\n",
        "from matplotlib import pyplot"
      ]
    },
    {
      "cell_type": "code",
      "execution_count": null,
      "metadata": {
        "id": "LQob_oHcDdgd"
      },
      "outputs": [],
      "source": [
        "# Загружаем набор данных Ирисы:\n",
        "iris = datasets.load_iris()\n",
        "# Смотрим на названия переменных\n",
        "print(iris.feature_names)\n",
        "# Смотрим на данные, выводим 10 первых строк:\n",
        "print( iris.data[:10])\n",
        "# Смотрим на целевую переменную:\n",
        "print(iris.target_names)\n",
        "print(iris.target)"
      ]
    },
    {
      "cell_type": "code",
      "execution_count": null,
      "metadata": {
        "id": "RiA_XtDnv6zV"
      },
      "outputs": [],
      "source": [
        "%matplotlib inline\n",
        "iris_frame = DataFrame(iris.data)\n",
        "# Делаем имена колонок такие же, как имена переменных:\n",
        "iris_frame.columns = iris.feature_names\n",
        "# Добавляем столбец с целевой переменной:\n",
        "iris_frame['target'] = iris.target\n",
        "# Для наглядности добавляем столбец с сортами:\n",
        "iris_frame['name'] = iris_frame.target.apply(lambda x : iris.target_names[x])\n",
        "# Смотрим, что получилось:\n",
        "iris_frame"
      ]
    },
    {
      "cell_type": "code",
      "execution_count": null,
      "metadata": {
        "id": "sSunuvZIIsog"
      },
      "outputs": [],
      "source": [
        "%matplotlib inline\n",
        "# Строим гистограммы по каждому признаку:\n",
        "%pylab\n",
        "pyplot.figure(figsize(20, 24))\n",
        "plot_number = 0\n",
        "for feature_name in iris['feature_names']:\n",
        "  for target_name in iris['target_names']:\n",
        "    plot_number += 1\n",
        "    pyplot.subplot(4, 3, plot_number)\n",
        "    pyplot.hist(iris_frame[iris_frame.name == target_name][feature_name])\n",
        "    pyplot.title(target_name)\n",
        "    pyplot.xlabel('cm')\n",
        "    pyplot.ylabel(feature_name[:-4])\n",
        "    pyplot.show\n",
        "    figure"
      ]
    },
    {
      "cell_type": "code",
      "source": [
        "%matplotlib inline\n",
        "import seaborn as sns\n",
        "sns.pairplot(iris_frame[['sepal length (cm)','sepal width (cm)','petal length (cm)','petal width (cm)','name']], hue = 'name')"
      ],
      "metadata": {
        "id": "BGIj4fUmw-G-"
      },
      "execution_count": null,
      "outputs": []
    },
    {
      "cell_type": "code",
      "source": [
        "iris_frame[['sepal length (cm)','sepal width (cm)','petal length (cm)','petal width (cm)']].corr()"
      ],
      "metadata": {
        "id": "WqUqxZtqy62t"
      },
      "execution_count": null,
      "outputs": []
    },
    {
      "cell_type": "code",
      "source": [
        "import seaborn as sns\n",
        "corr = iris_frame[['sepal length (cm)','sepal width (cm)','petal length (cm)','petal width (cm)']].corr()\n",
        "mask = np.zeros_like(corr)\n",
        "mask[np.triu_indices_from(mask)] = True\n",
        "with sns.axes_style(\"white\"):\n",
        "  ax = sns.heatmap(corr, mask=mask, square=True, cbar=False, annot=True, linewidths=.5)"
      ],
      "metadata": {
        "id": "S12uAMIiy8hy"
      },
      "execution_count": null,
      "outputs": []
    },
    {
      "cell_type": "code",
      "source": [
        "%matplotlib inline\n",
        "train_data, test_data, train_labels, test_labels = train_test_split(iris_frame[['sepal length (cm)','sepal width (cm)','petal length (cm)','petal width (cm)']], iris_frame['target'], test_size = 0.3, random_state = 0)\n",
        "# визуально проверяем, что получившееся разбиение соответствует нашим ожиданиям:\n",
        "print(train_data)\n",
        "print(test_data)\n",
        "print(train_labels)\n",
        "print(test_labels)"
      ],
      "metadata": {
        "id": "L0uhppnhzbqq"
      },
      "execution_count": null,
      "outputs": []
    },
    {
      "cell_type": "code",
      "source": [
        "from scipy import polyval, stats\n",
        "fit_output = stats.linregress(iris_frame[['petal length (cm)','petal width (cm)']])\n",
        "slope, intercept, r_value, p_value, slope_std_error = fit_output\n",
        "print(slope, intercept, r_value, p_value, slope_std_error)"
      ],
      "metadata": {
        "id": "HejrNvfxzpFK"
      },
      "execution_count": null,
      "outputs": []
    },
    {
      "cell_type": "code",
      "source": [
        "import matplotlib.pyplot as plt\n",
        "plt.plot(iris_frame[['petal length (cm)']], iris_frame[['petal width (cm)']],'o', label='Data')\n",
        "plt.plot(iris_frame[['petal length (cm)']], intercept + slope*iris_frame[['petal length (cm)']], 'r', linewidth=3, label='Linear regression line')\n",
        "plt.ylabel('petal width (cm)')\n",
        "plt.xlabel('petal length (cm)')\n",
        "plt.legend()\n",
        "plt.show()"
      ],
      "metadata": {
        "id": "9m1YLJbvzs1C"
      },
      "execution_count": null,
      "outputs": []
    },
    {
      "cell_type": "code",
      "source": [
        "%matplotlib inline\n",
        "train_data, test_data, train_labels, test_labels = train_test_split(iris_frame[['sepal length (cm)','sepal width (cm)','petal length (cm)','petal width (cm)']], iris_frame[['target']], test_size = 0.3, random_state = 0)\n",
        "model = linear_model.SGDClassifier(alpha=0.001, random_state = 0)\n",
        "model.fit(train_data, train_labels)\n",
        "model_predictions = model.predict(test_data)\n",
        "print(metrics.accuracy_score(test_labels, model_predictions))\n",
        "print(metrics.classification_report(test_labels, model_predictions))"
      ],
      "metadata": {
        "id": "dm7dJ0H3zzmJ"
      },
      "execution_count": null,
      "outputs": []
    },
    {
      "cell_type": "code",
      "source": [
        "%matplotlib inline\n",
        "train_data, test_data, train_labels, test_labels = train_test_split(iris_frame[['sepal length (cm)','sepal width (cm)','petal length (cm)','petal width (cm)']], iris_frame['target'], test_size = 0.3)\n",
        "model = linear_model.SGDClassifier(alpha=0.001, random_state = 0)\n",
        "scores = cross_val_score(model, train_data, train_labels, cv=10)\n",
        "print(scores.mean())"
      ],
      "metadata": {
        "id": "whxeDF8Wz6ue"
      },
      "execution_count": null,
      "outputs": []
    }
  ],
  "metadata": {
    "accelerator": "GPU",
    "colab": {
      "name": "iris.ipynb",
      "private_outputs": true,
      "provenance": []
    },
    "kernelspec": {
      "display_name": "Python 3",
      "language": "python",
      "name": "python3"
    },
    "language_info": {
      "codemirror_mode": {
        "name": "ipython",
        "version": 3
      },
      "file_extension": ".py",
      "mimetype": "text/x-python",
      "name": "python",
      "nbconvert_exporter": "python",
      "pygments_lexer": "ipython3",
      "version": "3.8.3"
    }
  },
  "nbformat": 4,
  "nbformat_minor": 0
}